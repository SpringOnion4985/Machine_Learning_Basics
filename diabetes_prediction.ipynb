{
    "cells": [
        {
            "cell_type": "markdown",
            "metadata": {
                "language": "markdown"
            },
            "source": [
                "Import Dependencies"
            ]
        },
        {
            "cell_type": "code",
            "metadata": {
                "language": "python"
            },
            "source": [
                "import numpy as np",
                "import pandas as pd",
                "from sklearn.preprocessing import StandardScaler",
                "from sklearn.model_selection import train_test_split",
                "from sklearn import svm",
                "from sklearn.metrics import accuracy_score"
            ]
        },
        {
            "cell_type": "markdown",
            "metadata": {
                "language": "markdown"
            },
            "source": [
                "Collect Data",
                "PIMA Diabetes Dataset"
            ]
        },
        {
            "cell_type": "code",
            "metadata": {
                "language": "python"
            },
            "source": [
                "diabetes_dataset=pd.read_csv('diabetes.csv')",
                "diabetes_dataset.head()"
            ]
        },
        {
            "cell_type": "code",
            "metadata": {
                "language": "python"
            },
            "source": [
                "diabetes_dataset.shape"
            ]
        },
        {
            "cell_type": "code",
            "metadata": {
                "language": "python"
            },
            "source": [
                "diabetes_dataset.describe()"
            ]
        },
        {
            "cell_type": "code",
            "metadata": {
                "language": "python"
            },
            "source": [
                "diabetes_dataset['Outcome'].value_counts()"
            ]
        },
        {
            "cell_type": "code",
            "metadata": {
                "language": "python"
            },
            "source": [
                "diabetes_dataset.groupby('Outcome').mean()"
            ]
        },
        {
            "cell_type": "code",
            "metadata": {
                "language": "python"
            },
            "source": [
                "#Separate labels and data",
                "X=diabetes_dataset.drop(columns='Outcome',axis=1)",
                "Y=diabetes_dataset['Outcome']"
            ]
        },
        {
            "cell_type": "code",
            "metadata": {
                "language": "python"
            },
            "source": [
                "print(X)"
            ]
        },
        {
            "cell_type": "code",
            "metadata": {
                "language": "python"
            },
            "source": [
                "print(Y)"
            ]
        },
        {
            "cell_type": "code",
            "metadata": {
                "language": "python"
            },
            "source": [
                "scaler=StandardScaler()"
            ]
        },
        {
            "cell_type": "code",
            "metadata": {
                "language": "python"
            },
            "source": [
                "scaler.fit(X)"
            ]
        },
        {
            "cell_type": "code",
            "metadata": {
                "language": "python"
            },
            "source": [
                "standardized_data=scaler.transform(X)"
            ]
        },
        {
            "cell_type": "code",
            "metadata": {
                "language": "python"
            },
            "source": [
                "print(standardized_data)"
            ]
        },
        {
            "cell_type": "code",
            "metadata": {
                "language": "python"
            },
            "source": [
                "X=standardized_data"
            ]
        },
        {
            "cell_type": "code",
            "metadata": {
                "language": "python"
            },
            "source": [
                "X_train, X_test, Y_train, Y_test=train_test_split(X, Y, test_size=0.2, stratify=Y, random_state=2)"
            ]
        },
        {
            "cell_type": "code",
            "metadata": {
                "language": "python"
            },
            "source": [
                "print(X.shape, X_train.shape, X_test.shape)"
            ]
        },
        {
            "cell_type": "markdown",
            "metadata": {
                "language": "markdown"
            },
            "source": [
                "Training the model"
            ]
        },
        {
            "cell_type": "code",
            "metadata": {
                "language": "python"
            },
            "source": [
                "classifier=svm.SVC(kernel='linear')"
            ]
        },
        {
            "cell_type": "code",
            "metadata": {
                "language": "python"
            },
            "source": [
                "classifier.fit(X_train, Y_train)"
            ]
        },
        {
            "cell_type": "code",
            "metadata": {
                "language": "python"
            },
            "source": [
                "X_train_prediction=classifier.predict(X_train)",
                "training_data_accuracy=accuracy_score(X_train_prediction, Y_train)"
            ]
        },
        {
            "cell_type": "code",
            "metadata": {
                "language": "python"
            },
            "source": [
                "print(training_data_accuracy)"
            ]
        },
        {
            "cell_type": "code",
            "metadata": {
                "language": "python"
            },
            "source": [
                "X_test_prediction=classifier.predict(X_test)",
                "test_data_accuracy=accuracy_score(X_test_prediction, Y_test)"
            ]
        },
        {
            "cell_type": "code",
            "metadata": {
                "language": "python"
            },
            "source": [
                "print(test_data_accuracy)"
            ]
        },
        {
            "cell_type": "markdown",
            "metadata": {
                "language": "markdown"
            },
            "source": [
                "A Predictive System"
            ]
        },
        {
            "cell_type": "code",
            "metadata": {
                "language": "python"
            },
            "source": [
                "input_data=(4,110,92,0,0,37.6,0.191,30)",
                "data=np.asarray(input_data)",
                "data_reshaped=data.reshape(1,-1)",
                "",
                "std_data=scaler.transform(data_reshaped)",
                "print(std_data)",
                "prediction=classifier.predict(std_data)",
                "print(prediction)",
                "",
                "if(prediction[0]==0):",
                "  print(\"The person is not diabetic\")",
                "else:",
                "  print(\"The person is diabetic\")"
            ]
        },
        {
            "cell_type": "code",
            "metadata": {
                "language": "python"
            },
            "source": [
                ""
            ]
        }
    ]
}