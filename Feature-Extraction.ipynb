{
 "cells": [
  {
   "cell_type": "markdown",
   "id": "384bcd0a",
   "metadata": {},
   "source": [
    "TF-IDF Vectorizer\n"
   ]
  },
  {
   "cell_type": "markdown",
   "id": "98bbc486",
   "metadata": {},
   "source": []
  }
 ],
 "metadata": {
  "language_info": {
   "name": "python"
  }
 },
 "nbformat": 4,
 "nbformat_minor": 5
}
